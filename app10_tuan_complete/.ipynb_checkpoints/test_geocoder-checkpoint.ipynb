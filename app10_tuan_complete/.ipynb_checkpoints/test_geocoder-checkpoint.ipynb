{
 "cells": [
  {
   "cell_type": "code",
   "execution_count": 7,
   "metadata": {},
   "outputs": [
    {
     "name": "stdout",
     "output_type": "stream",
     "text": [
      "    0                                                1             2  \\\n",
      "0  ID                                          Address          Name   \n",
      "1   1          3666 21st St San Francisco CA 94114 USA       Madeira   \n",
      "2   2        735 Dolores St San Francisco CA 94119 USA   Bready Shop   \n",
      "3   3   332 Hill St San Francisco California 94114 USA   Super River   \n",
      "4   4          3995 23rd St San Francisco CA 94114 USA    Ben's Shop   \n",
      "\n",
      "           3  \n",
      "0  Employees  \n",
      "1          8  \n",
      "2         15  \n",
      "3         25  \n",
      "4         10  \n",
      "0           ID\n",
      "1      Address\n",
      "2         Name\n",
      "3    Employees\n",
      "Name: 0, dtype: object None\n",
      "0                                           1\n",
      "1     3666 21st St San Francisco CA 94114 USA\n",
      "2                                     Madeira\n",
      "3                                           8\n",
      "Name: 1, dtype: object None\n",
      "0                                             2\n",
      "1     735 Dolores St San Francisco CA 94119 USA\n",
      "2                                   Bready Shop\n",
      "3                                            15\n",
      "Name: 2, dtype: object None\n",
      "0                                                  3\n",
      "1     332 Hill St San Francisco California 94114 USA\n",
      "2                                        Super River\n",
      "3                                                 25\n",
      "Name: 3, dtype: object None\n",
      "0                                           4\n",
      "1     3995 23rd St San Francisco CA 94114 USA\n",
      "2                                  Ben's Shop\n",
      "3                                          10\n",
      "Name: 4, dtype: object None\n",
      "0                                               5\n",
      "1    1056 Sanchez St San Francisco California USA\n",
      "2                                         Sanchez\n",
      "3                                              12\n",
      "Name: 5, dtype: object None\n",
      "Address None\n"
     ]
    },
    {
     "ename": "TypeError",
     "evalue": "'NoneType' object is not subscriptable",
     "output_type": "error",
     "traceback": [
      "\u001b[0;31m---------------------------------------------------------------------------\u001b[0m",
      "\u001b[0;31mTypeError\u001b[0m                                 Traceback (most recent call last)",
      "\u001b[0;32m<ipython-input-7-c11ec73a9113>\u001b[0m in \u001b[0;36m<module>\u001b[0;34m()\u001b[0m\n\u001b[1;32m     17\u001b[0m         \u001b[0mgc\u001b[0m \u001b[0;34m=\u001b[0m \u001b[0mgeocoder\u001b[0m\u001b[0;34m.\u001b[0m\u001b[0mgoogle\u001b[0m\u001b[0;34m(\u001b[0m\u001b[0mstr\u001b[0m\u001b[0;34m(\u001b[0m\u001b[0mr\u001b[0m\u001b[0;34m[\u001b[0m\u001b[0;36m1\u001b[0m\u001b[0;34m]\u001b[0m\u001b[0;34m)\u001b[0m\u001b[0;34m)\u001b[0m\u001b[0;34m\u001b[0m\u001b[0m\n\u001b[1;32m     18\u001b[0m         \u001b[0mprint\u001b[0m\u001b[0;34m(\u001b[0m\u001b[0mr\u001b[0m\u001b[0;34m[\u001b[0m\u001b[0;36m1\u001b[0m\u001b[0;34m]\u001b[0m\u001b[0;34m,\u001b[0m\u001b[0mgc\u001b[0m\u001b[0;34m.\u001b[0m\u001b[0mlatlng\u001b[0m\u001b[0;34m)\u001b[0m\u001b[0;34m\u001b[0m\u001b[0m\n\u001b[0;32m---> 19\u001b[0;31m         \u001b[0mwtr\u001b[0m\u001b[0;34m.\u001b[0m\u001b[0mwriterow\u001b[0m\u001b[0;34m(\u001b[0m\u001b[0mr\u001b[0m \u001b[0;34m+\u001b[0m \u001b[0mgc\u001b[0m\u001b[0;34m.\u001b[0m\u001b[0mlatlng\u001b[0m\u001b[0;34m[\u001b[0m\u001b[0;36m0\u001b[0m\u001b[0;34m]\u001b[0m\u001b[0;34m+\u001b[0m\u001b[0mgc\u001b[0m\u001b[0;34m.\u001b[0m\u001b[0mlatlng\u001b[0m\u001b[0;34m[\u001b[0m\u001b[0;36m1\u001b[0m\u001b[0;34m]\u001b[0m\u001b[0;34m)\u001b[0m\u001b[0;34m\u001b[0m\u001b[0m\n\u001b[0m\u001b[1;32m     20\u001b[0m         \u001b[0mtime\u001b[0m\u001b[0;34m.\u001b[0m\u001b[0msleep\u001b[0m\u001b[0;34m(\u001b[0m\u001b[0;36m2\u001b[0m\u001b[0;34m)\u001b[0m\u001b[0;34m\u001b[0m\u001b[0m\n\u001b[1;32m     21\u001b[0m \u001b[0;34m\u001b[0m\u001b[0m\n",
      "\u001b[0;31mTypeError\u001b[0m: 'NoneType' object is not subscriptable"
     ]
    }
   ],
   "source": [
    "import geocoder \n",
    "import csv\n",
    "import pandas as pd\n",
    "import time\n",
    "\n",
    "df = pd.read_csv(\"Supermarket_a.csv\",header=None)\n",
    "print(df.head())\n",
    "for row in df.iterrows():\n",
    "   g = geocoder.google(row[2])\n",
    "   print(row[2],g.latlng)\n",
    "   time.sleep(2)\n",
    "\n",
    "with open(\"Supermarket_a.csv\",\"r\") as f, open(\"Supermarket_b.csv\",\"w\",newline='') as g:\n",
    "    rdr = csv.reader(f)\n",
    "    wtr = csv.writer(g)\n",
    "    for r in rdr:\n",
    "        gc = geocoder.google(str(r[1]))\n",
    "        print(r[1],gc.latlng)\n",
    "        wtr.writerow(r + gc.latlng[0]+gc.latlng[1])\n",
    "        time.sleep(2)\n",
    "        "
   ]
  },
  {
   "cell_type": "code",
   "execution_count": null,
   "metadata": {},
   "outputs": [],
   "source": []
  },
  {
   "cell_type": "code",
   "execution_count": null,
   "metadata": {},
   "outputs": [],
   "source": []
  }
 ],
 "metadata": {
  "kernelspec": {
   "display_name": "Python 3",
   "language": "python",
   "name": "python3"
  },
  "language_info": {
   "codemirror_mode": {
    "name": "ipython",
    "version": 3
   },
   "file_extension": ".py",
   "mimetype": "text/x-python",
   "name": "python",
   "nbconvert_exporter": "python",
   "pygments_lexer": "ipython3",
   "version": "3.6.5"
  }
 },
 "nbformat": 4,
 "nbformat_minor": 2
}
